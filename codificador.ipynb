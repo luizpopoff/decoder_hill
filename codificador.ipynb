{
 "cells": [
  {
   "cell_type": "markdown",
   "metadata": {},
   "source": [
    "Bibliotecas importadas:\n",
    "* 1 - Numpy\n",
    "* 2 - Random"
   ]
  },
  {
   "cell_type": "code",
   "execution_count": 6,
   "metadata": {},
   "outputs": [],
   "source": [
    "import numpy as np\n",
    "import random"
   ]
  },
  {
   "cell_type": "markdown",
   "metadata": {},
   "source": [
    "Criação de uma matriz randômica inversível, entre 0 e 100 (números inteiros), que será utilizada como chave de codificação"
   ]
  },
  {
   "cell_type": "code",
   "execution_count": 52,
   "metadata": {},
   "outputs": [],
   "source": [
    "#matriz randômica para criação da chave\n",
    "def gerar_chave(dimensao_matriz):\n",
    "    while True:\n",
    "        chave = np.random.randint(0, 100, size=(dimensao_matriz,dimensao_matriz))\n",
    "        if np.linalg.det(chave) != 0:\n",
    "            break\n",
    "  \n",
    "    return(chave)"
   ]
  },
  {
   "cell_type": "markdown",
   "metadata": {},
   "source": [
    "Função que realiza a inversa da matriz da chave de codificação"
   ]
  },
  {
   "cell_type": "code",
   "execution_count": 8,
   "metadata": {},
   "outputs": [],
   "source": [
    "#calcula a inversa de uma matriz\n",
    "def inversa(matriz):\n",
    "    inversa_chave = np.linalg.inv(matriz)\n",
    "\n",
    "    return(inversa_chave)"
   ]
  },
  {
   "cell_type": "markdown",
   "metadata": {},
   "source": [
    "Função recebe a frase a ser codificada. Para cada caractere da frase, é associado uma posição na strig de Alfabeto. Criado uma matriz de acordo com a dimensão forncida pelo usuário."
   ]
  },
  {
   "cell_type": "code",
   "execution_count": 57,
   "metadata": {},
   "outputs": [],
   "source": [
    "def cifra_hill(frase,dimensao,alfabeto):\n",
    "    frase_indice = []\n",
    "\n",
    "    for caractere in frase:\n",
    "        posicao = alfabeto.index(caractere)\n",
    "        frase_indice.append(posicao)\n",
    "\n",
    "    if len(frase_indice)%dimensao != 0:\n",
    "        for i in range(dimensao - len(frase)%dimensao):\n",
    "            frase_indice.append(126)\n",
    "\n",
    "    matriz_frase = np.array(frase_indice)\n",
    "    tamanho_frase = int(len(frase_indice)/dimensao)\n",
    "    matriz_frase = matriz_frase.reshape(dimensao,tamanho_frase)\n",
    "\n",
    "    return(matriz_frase)"
   ]
  },
  {
   "cell_type": "markdown",
   "metadata": {},
   "source": [
    "Função que faz a multiplicação da matriz das posições da mensagem com a matriz da chave de codificação"
   ]
  },
  {
   "cell_type": "code",
   "execution_count": 10,
   "metadata": {},
   "outputs": [],
   "source": [
    "def codificar(chave, matriz_frase):\n",
    "\n",
    "    codificada = chave @ matriz_frase\n",
    "\n",
    "    return(codificada)"
   ]
  },
  {
   "cell_type": "markdown",
   "metadata": {},
   "source": [
    "Função que decodifica a mensagem. Recebe a frase codificada, e a chave. Realiza a inversa da matriz chave e faz a multipliação entre matriz, retornando uma matriz com a mensagem decodificada."
   ]
  },
  {
   "cell_type": "code",
   "execution_count": 11,
   "metadata": {},
   "outputs": [],
   "source": [
    "def decodificar(chave, frase_codificada, dimensao):\n",
    "    \n",
    "    inversa_chave = inversa(chave)\n",
    "    matriz_frase = np.array(frase_codificada)\n",
    "    tamanho_frase = int(len(frase_codificada)/dimensao)\n",
    "    matriz_frase = matriz_frase.reshape(dimensao,tamanho_frase)\n",
    "  \n",
    "    decodificada = inversa_chave @ matriz_frase\n",
    "\n",
    "    decodificada = np.rint(decodificada)\n",
    "\n",
    "    return(decodificada)"
   ]
  },
  {
   "cell_type": "markdown",
   "metadata": {},
   "source": [
    "Função inicial que recebe as informações do usuário"
   ]
  },
  {
   "cell_type": "code",
   "execution_count": 45,
   "metadata": {},
   "outputs": [],
   "source": [
    "def decoder(dimensao, modo, frase, ch=[]):\n",
    "    \n",
    "    alfabeto = 'abcdefghijklmnopqrstuvwxyzàáãâéêóôõíúçÀÁÃÂÉÊÓÕÍÚÇABCDEFGHIJKLMNOPQRSTUVWXYZÀÁÃÂÉÊÓÕÍÚÇ0123456789!@#$%^&*(){}[]-_=+|\\/:;<>.,?`~ '\n",
    "\n",
    "    if modo == 1:\n",
    "        chave = gerar_chave(dimensao)\n",
    "\n",
    "        matriz_frase = cifra_hill(frase,dimensao,alfabeto)\n",
    "\n",
    "        codificada = codificar(chave, matriz_frase)\n",
    "\n",
    "        frase_codificada = []\n",
    "\n",
    "        for i in codificada:\n",
    "            for j in i:\n",
    "                frase_codificada.append(j)\n",
    "        \n",
    "        chave_codificadora = []\n",
    "\n",
    "        for i in chave:\n",
    "            for j in i:\n",
    "                chave_codificadora.append(j)\n",
    "        print(\"Frase codificada:\")\n",
    "        print(frase_codificada)\n",
    "        print(\"Chave para codificação:\")\n",
    "        print(chave_codificadora)\n",
    "    \n",
    "    else:\n",
    "        \n",
    "        chave_matriz = np.array(ch)\n",
    "        chave_matriz = chave_matriz.reshape(dimensao,dimensao)\n",
    "        decodificada = decodificar(chave_matriz, frase, dimensao)\n",
    "\n",
    "        frase_decodificada = \"\"\n",
    "        lista_decodificada = []\n",
    "            \n",
    "        for i in decodificada:\n",
    "            for j in i:\n",
    "                lista_decodificada.append(j)\n",
    "\n",
    "        for i in lista_decodificada:\n",
    "            frase_decodificada += alfabeto[int(i)]\n",
    "\n",
    "        print(\"Frase secreta:\")\n",
    "        print(frase_decodificada.strip())\n",
    "   "
   ]
  },
  {
   "cell_type": "markdown",
   "metadata": {},
   "source": [
    "Início do programa. Interação com usuário para realizar a codificação ou decodificação de uma mensagem."
   ]
  },
  {
   "cell_type": "code",
   "execution_count": 61,
   "metadata": {},
   "outputs": [
    {
     "name": "stdout",
     "output_type": "stream",
     "text": [
      "Frase codificada:\n",
      "[28282, 29155, 36604, 38200, 27500, 29080, 25293, 25929, 30403, 32507, 22505, 24409]\n",
      "Chave para codificação:\n",
      "[11, 92, 32, 13, 33, 81, 65, 99, 36, 79, 61, 20, 12, 28, 28, 35, 69, 79, 27, 34, 40, 12, 23, 93, 11, 88, 26, 84, 89, 1, 24, 31, 34, 38, 83, 9]\n",
      "Frase secreta:\n",
      "!@#$%&*()\n"
     ]
    }
   ],
   "source": [
    "while True:\n",
    "    while True:\n",
    "        modo = int(input(\"Digite:\\n1 - Codificar\\n2 - Decodificar: \"))\n",
    "        if modo!=1 and modo!=2:\n",
    "            print(\"Valor incorreto. Tente novamente\")\n",
    "        else:\n",
    "            break\n",
    "\n",
    "    if modo == 1:\n",
    "        frase = input(\"Digite o texto que será codificado: \")\n",
    "        dimensao_da_chave = int(input(\"Digite a dimensão da matriz que formará a chave de decodificação: \"))\n",
    "        decoder(dimensao_da_chave,modo,frase)\n",
    "    else:\n",
    "        lista_codificada = input(\"Digite os números da sua mensagem codificada, separados por vírgualas: \")\n",
    "        chave_decodificacao = input(\"Digite os números da chave, separados por vírgulas: \")\n",
    "        lista = lista_codificada.split(\",\")\n",
    "        frase = [int(val) for val in lista]\n",
    "        chave = chave_decodificacao.split(\",\")\n",
    "        chave_inteiros = [int(val) for val in chave]\n",
    "        dimensao_da_chave = int(len(chave_inteiros)**0.5)\n",
    "        decoder(dimensao_da_chave,modo,frase,chave_inteiros)\n",
    "    \n",
    "    continuar = input(\"Quer continuar S/N: \")\n",
    "    if continuar in \"Sssim\":\n",
    "        continue\n",
    "    else:\n",
    "        break\n"
   ]
  },
  {
   "cell_type": "code",
   "execution_count": null,
   "metadata": {},
   "outputs": [],
   "source": []
  }
 ],
 "metadata": {
  "kernelspec": {
   "display_name": "Python 3",
   "language": "python",
   "name": "python3"
  },
  "language_info": {
   "codemirror_mode": {
    "name": "ipython",
    "version": 3
   },
   "file_extension": ".py",
   "mimetype": "text/x-python",
   "name": "python",
   "nbconvert_exporter": "python",
   "pygments_lexer": "ipython3",
   "version": "3.11.4"
  }
 },
 "nbformat": 4,
 "nbformat_minor": 2
}
